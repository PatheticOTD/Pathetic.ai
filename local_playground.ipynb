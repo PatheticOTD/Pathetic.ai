{
 "cells": [
  {
   "cell_type": "code",
   "execution_count": 16,
   "metadata": {},
   "outputs": [],
   "source": [
    "from datasets import load_dataset\n",
    "import pandas as pd\n",
    "import numpy as np\n",
    "import torch\n",
    "import torch.nn.functional as f\n",
    "import triplet_loss"
   ]
  },
  {
   "cell_type": "code",
   "execution_count": 4,
   "metadata": {},
   "outputs": [],
   "source": [
    "dist_matrix = triplet_loss.eucl_dist_matrix\n",
    "mask_matrix = triplet_loss.get_triplet_mask"
   ]
  },
  {
   "cell_type": "code",
   "execution_count": 21,
   "metadata": {},
   "outputs": [],
   "source": [
    "arr = torch.tensor([\n",
    "    [1,2,3],\n",
    "    [4,5,6],\n",
    "    [7,8,9],\n",
    "    [10,11,12]\n",
    "])\n",
    "\n",
    "labels = torch.tensor([\n",
    "    [1],\n",
    "    [0],\n",
    "    [1],\n",
    "    [0]\n",
    "])"
   ]
  },
  {
   "cell_type": "code",
   "execution_count": 23,
   "metadata": {},
   "outputs": [
    {
     "data": {
      "text/plain": [
       "tensor([[ 0.0000,  5.1962, 10.3923, 15.5885],\n",
       "        [ 5.1962,  0.0000,  5.1962, 10.3923],\n",
       "        [10.3923,  5.1962,  0.0000,  5.1962],\n",
       "        [15.5885, 10.3923,  5.1962,  0.0000]])"
      ]
     },
     "execution_count": 23,
     "metadata": {},
     "output_type": "execute_result"
    }
   ],
   "source": [
    "darr = dist_matrix(arr)\n",
    "darr"
   ]
  },
  {
   "cell_type": "code",
   "execution_count": 52,
   "metadata": {},
   "outputs": [
    {
     "name": "stdout",
     "output_type": "stream",
     "text": [
      "tensor(3.0981)\n",
      "tensor(6.1962)\n",
      "tensor(6.1962)\n",
      "tensor(3.0981)\n"
     ]
    }
   ],
   "source": [
    "from torch.nn import TripletMarginLoss\n",
    "\n",
    "labels = labels.view(-1)\n",
    "loss_fn = TripletMarginLoss()\n",
    "for i in range(arr.shape[0]):\n",
    "    anchor_label = labels[i]\n",
    "    anchor = arr[i]\n",
    "    anchor_positive_filter = (labels == anchor_label)\n",
    "    anchor_positive_filter[i] = False\n",
    "    anchor_negative_filter = (labels != anchor_label)\n",
    "    positives = arr[anchor_positive_filter]\n",
    "    negatives = arr[anchor_negative_filter]\n",
    "    print(loss_fn(anchor.unsqueeze(0), positives, negatives))"
   ]
  },
  {
   "cell_type": "code",
   "execution_count": 41,
   "metadata": {},
   "outputs": [
    {
     "data": {
      "text/plain": [
       "tensor([[[False, False, False, False],\n",
       "         [False, False, False, False],\n",
       "         [False,  True, False,  True],\n",
       "         [False, False, False, False]],\n",
       "\n",
       "        [[False, False, False, False],\n",
       "         [False, False, False, False],\n",
       "         [False, False, False, False],\n",
       "         [ True, False,  True, False]],\n",
       "\n",
       "        [[False,  True, False,  True],\n",
       "         [False, False, False, False],\n",
       "         [False, False, False, False],\n",
       "         [False, False, False, False]],\n",
       "\n",
       "        [[False, False, False, False],\n",
       "         [ True, False,  True, False],\n",
       "         [False, False, False, False],\n",
       "         [False, False, False, False]]])"
      ]
     },
     "execution_count": 41,
     "metadata": {},
     "output_type": "execute_result"
    }
   ],
   "source": [
    "mask_matrix(labels)"
   ]
  },
  {
   "cell_type": "code",
   "execution_count": 43,
   "metadata": {},
   "outputs": [
    {
     "data": {
      "text/plain": [
       "torch.Size([4, 3])"
      ]
     },
     "execution_count": 43,
     "metadata": {},
     "output_type": "execute_result"
    }
   ],
   "source": [
    "arr.size()"
   ]
  },
  {
   "cell_type": "code",
   "execution_count": null,
   "metadata": {},
   "outputs": [],
   "source": []
  }
 ],
 "metadata": {
  "kernelspec": {
   "display_name": "torch_hub",
   "language": "python",
   "name": "python3"
  },
  "language_info": {
   "codemirror_mode": {
    "name": "ipython",
    "version": 3
   },
   "file_extension": ".py",
   "mimetype": "text/x-python",
   "name": "python",
   "nbconvert_exporter": "python",
   "pygments_lexer": "ipython3",
   "version": "3.12.4"
  }
 },
 "nbformat": 4,
 "nbformat_minor": 2
}
