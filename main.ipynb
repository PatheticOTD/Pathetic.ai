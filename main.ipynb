{
 "cells": [
  {
   "cell_type": "code",
   "execution_count": 1,
   "metadata": {},
   "outputs": [],
   "source": [
    "import face_recognition\n",
    "import cv2\n",
    "import os\n",
    "import pickle\n",
    "import matplotlib.pyplot as plt\n",
    "import numpy as np\n",
    "import re\n",
    "import pickle"
   ]
  },
  {
   "cell_type": "code",
   "execution_count": null,
   "metadata": {},
   "outputs": [],
   "source": [
    "# Define the path to your dataset\n",
    "images = []\n",
    "labels = []\n",
    "data_path = 'data/train'\n",
    "area = lambda x: (x[:, 2] - x[:, 0]) * (x[:, 1] - x[:, 3])\n",
    "for folder in os.listdir(data_path):\n",
    "    folder_path = os.path.join(data_path, folder)\n",
    "    # Loop through the images in the specified folder\n",
    "    for filename in os.listdir(folder_path):\n",
    "        img_path = os.path.join(folder_path,  filename)\n",
    "        \n",
    "        image = face_recognition.load_image_file(img_path)\n",
    "        image = cv2.cvtColor(image, cv2.COLOR_BGR2RGB)\n",
    "        coords = np.array(face_recognition.face_locations(image))\n",
    "        if len(coords) > 0:\n",
    "            coords = coords[np.argmax(area(coords))]\n",
    "            image = image[coords[0]:coords[2], coords[3]: coords[2]]\n",
    "            image = cv2.resize(image,(160, 160))\n",
    "            images.append(image)\n",
    "            labels.append(folder)\n",
    "images = np.array(images)\n",
    "labels = np.array(labels)\n",
    "with open('train_imgs.pkl', 'wb') as f:\n",
    "    pickle.dump(images, f)\n",
    "with open('train_labels.pkl', 'wb') as f:\n",
    "    pickle.dump(labels, f)\n"
   ]
  },
  {
   "cell_type": "code",
   "execution_count": 3,
   "metadata": {},
   "outputs": [],
   "source": [
    "encodings = []\n",
    "for i in images:\n",
    "    encodings.append(face_recognition.face_encodings(i, known_face_locations=[(0, 160, 160, 0)])[0])"
   ]
  },
  {
   "cell_type": "code",
   "execution_count": 4,
   "metadata": {},
   "outputs": [],
   "source": [
    "def check_image(img_path = 'data/validate/Hugh Jackman/Hugh Jackman17293.jpg'):\n",
    "    image = face_recognition.load_image_file(img_path)\n",
    "    image = cv2.cvtColor(image, cv2.COLOR_BGR2RGB)\n",
    "    coords = np.array(face_recognition.face_locations(image))\n",
    "    coords = coords[np.argmax(area(coords))]\n",
    "    image = image[coords[0]:coords[2], coords[3]: coords[2]]\n",
    "    image = cv2.resize(image,(160, 160))\n",
    "    encoding = face_recognition.face_encodings(image, known_face_locations=[(0, 160, 160, 0)])[0]\n",
    "    filter = face_recognition.compare_faces(encodings, encoding, tolerance=0.6)\n",
    "    if sum(filter) > 0:\n",
    "        return labels[filter]\n",
    "    else: return 'Unknown'"
   ]
  },
  {
   "cell_type": "code",
   "execution_count": 5,
   "metadata": {},
   "outputs": [
    {
     "data": {
      "text/plain": [
       "'Natalie Dormer'"
      ]
     },
     "execution_count": 5,
     "metadata": {},
     "output_type": "execute_result"
    }
   ],
   "source": [
    "check_image(img_path='data/validate/Natalie Dormer/Natalie Dormer2.jpg')[0]"
   ]
  },
  {
   "cell_type": "code",
   "execution_count": 6,
   "metadata": {},
   "outputs": [
    {
     "data": {
      "text/plain": [
       "1"
      ]
     },
     "execution_count": 6,
     "metadata": {},
     "output_type": "execute_result"
    }
   ],
   "source": [
    "sum([True, False])"
   ]
  },
  {
   "cell_type": "code",
   "execution_count": null,
   "metadata": {},
   "outputs": [],
   "source": []
  }
 ],
 "metadata": {
  "kernelspec": {
   "display_name": "torch_hub",
   "language": "python",
   "name": "python3"
  },
  "language_info": {
   "codemirror_mode": {
    "name": "ipython",
    "version": 3
   },
   "file_extension": ".py",
   "mimetype": "text/x-python",
   "name": "python",
   "nbconvert_exporter": "python",
   "pygments_lexer": "ipython3",
   "version": "3.12.2"
  }
 },
 "nbformat": 4,
 "nbformat_minor": 2
}
